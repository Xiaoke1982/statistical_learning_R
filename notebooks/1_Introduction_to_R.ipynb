{
 "cells": [
  {
   "cell_type": "code",
   "execution_count": 1,
   "id": "2cbbf2bc-cab2-4b95-b5fc-3aa169c76719",
   "metadata": {},
   "outputs": [
    {
     "data": {
      "text/html": [
       "<ol class=list-inline>\n",
       "\t<li>1</li>\n",
       "\t<li>3</li>\n",
       "\t<li>4</li>\n",
       "</ol>\n"
      ],
      "text/latex": [
       "\\begin{enumerate*}\n",
       "\\item 1\n",
       "\\item 3\n",
       "\\item 4\n",
       "\\end{enumerate*}\n"
      ],
      "text/markdown": [
       "1. 1\n",
       "2. 3\n",
       "3. 4\n",
       "\n",
       "\n"
      ],
      "text/plain": [
       "[1] 1 3 4"
      ]
     },
     "metadata": {},
     "output_type": "display_data"
    }
   ],
   "source": [
    "a <- c(1,3,4)\n",
    "a"
   ]
  },
  {
   "cell_type": "code",
   "execution_count": 2,
   "id": "66081338-0b48-4788-8303-25cd5ea1bd10",
   "metadata": {},
   "outputs": [
    {
     "name": "stderr",
     "output_type": "stream",
     "text": [
      "also installing the dependencies ‘cli’, ‘farver’, ‘isoband’, ‘lifecycle’, ‘rlang’, ‘scales’, ‘vctrs’, ‘withr’\n",
      "\n",
      "Warning message in install.packages(\"ggplot2\"):\n",
      "“installation of package ‘cli’ had non-zero exit status”Warning message in install.packages(\"ggplot2\"):\n",
      "“installation of package ‘farver’ had non-zero exit status”Warning message in install.packages(\"ggplot2\"):\n",
      "“installation of package ‘isoband’ had non-zero exit status”Warning message in install.packages(\"ggplot2\"):\n",
      "“installation of package ‘rlang’ had non-zero exit status”Warning message in install.packages(\"ggplot2\"):\n",
      "“installation of package ‘lifecycle’ had non-zero exit status”Warning message in install.packages(\"ggplot2\"):\n",
      "“installation of package ‘scales’ had non-zero exit status”Warning message in install.packages(\"ggplot2\"):\n",
      "“installation of package ‘vctrs’ had non-zero exit status”Warning message in install.packages(\"ggplot2\"):\n",
      "“installation of package ‘ggplot2’ had non-zero exit status”Updating HTML index of packages in '.Library'\n",
      "Making 'packages.html' ... done\n"
     ]
    }
   ],
   "source": [
    "install.packages(\"ggplot2\")"
   ]
  },
  {
   "cell_type": "code",
   "execution_count": null,
   "id": "d19defd6-4fa4-49a3-86f5-8bef43e341ec",
   "metadata": {},
   "outputs": [],
   "source": []
  }
 ],
 "metadata": {
  "kernelspec": {
   "display_name": "R",
   "language": "R",
   "name": "ir"
  },
  "language_info": {
   "codemirror_mode": "r",
   "file_extension": ".r",
   "mimetype": "text/x-r-source",
   "name": "R",
   "pygments_lexer": "r",
   "version": "3.6.1"
  }
 },
 "nbformat": 4,
 "nbformat_minor": 5
}
